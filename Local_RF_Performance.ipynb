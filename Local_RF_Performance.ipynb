{
 "cells": [
  {
   "cell_type": "code",
   "execution_count": 14,
   "id": "8f8bc2d4-0c9c-4f8f-9948-ac22add22ef9",
   "metadata": {},
   "outputs": [],
   "source": [
    "import numpy as np\n",
    "from tqdm import tqdm\n",
    "from sklearn.metrics import r2_score, mean_squared_error, mean_absolute_error\n",
    "from sklearn.ensemble import RandomForestRegressor\n",
    "import pandas as pd\n",
    "from sklearn.model_selection import train_test_split\n",
    "from PyALE import ale\n",
    "import matplotlib.pyplot as plt\n",
    "from sklearn.linear_model import RidgeCV\n",
    "from sklearn.pipeline import make_pipeline\n",
    "from tqdm import tqdm "
   ]
  },
  {
   "cell_type": "code",
   "execution_count": 15,
   "id": "f8b0b068-385b-4d23-afc7-1e45e4e3aafc",
   "metadata": {},
   "outputs": [
    {
     "data": {
      "text/html": [
       "<div>\n",
       "<style scoped>\n",
       "    .dataframe tbody tr th:only-of-type {\n",
       "        vertical-align: middle;\n",
       "    }\n",
       "\n",
       "    .dataframe tbody tr th {\n",
       "        vertical-align: top;\n",
       "    }\n",
       "\n",
       "    .dataframe thead th {\n",
       "        text-align: right;\n",
       "    }\n",
       "</style>\n",
       "<table border=\"1\" class=\"dataframe\">\n",
       "  <thead>\n",
       "    <tr style=\"text-align: right;\">\n",
       "      <th></th>\n",
       "      <th>GEOID</th>\n",
       "      <th>CT_5digit</th>\n",
       "      <th>bphigh</th>\n",
       "      <th>chd</th>\n",
       "      <th>diabetes</th>\n",
       "      <th>highchol</th>\n",
       "      <th>obesity</th>\n",
       "      <th>ABE1</th>\n",
       "      <th>ABE2</th>\n",
       "      <th>ABE3</th>\n",
       "      <th>ABE4</th>\n",
       "      <th>ABE5</th>\n",
       "      <th>ABE6</th>\n",
       "      <th>PBE1</th>\n",
       "      <th>PBE2</th>\n",
       "      <th>NE1</th>\n",
       "      <th>NE2</th>\n",
       "      <th>NE3</th>\n",
       "    </tr>\n",
       "  </thead>\n",
       "  <tbody>\n",
       "    <tr>\n",
       "      <th>0</th>\n",
       "      <td>6037265301</td>\n",
       "      <td>265301</td>\n",
       "      <td>5.761042</td>\n",
       "      <td>0.500960</td>\n",
       "      <td>1.085414</td>\n",
       "      <td>6.762963</td>\n",
       "      <td>11.188110</td>\n",
       "      <td>-0.660764</td>\n",
       "      <td>0.692240</td>\n",
       "      <td>-0.394954</td>\n",
       "      <td>0.925184</td>\n",
       "      <td>-0.829787</td>\n",
       "      <td>0.235442</td>\n",
       "      <td>2.640152</td>\n",
       "      <td>-1.443477</td>\n",
       "      <td>0.059821</td>\n",
       "      <td>-0.053236</td>\n",
       "      <td>15.788235</td>\n",
       "    </tr>\n",
       "    <tr>\n",
       "      <th>1</th>\n",
       "      <td>6037401901</td>\n",
       "      <td>401901</td>\n",
       "      <td>16.223067</td>\n",
       "      <td>1.520913</td>\n",
       "      <td>2.788340</td>\n",
       "      <td>21.292775</td>\n",
       "      <td>35.741446</td>\n",
       "      <td>-0.316248</td>\n",
       "      <td>0.295115</td>\n",
       "      <td>-0.205460</td>\n",
       "      <td>0.128051</td>\n",
       "      <td>-0.506879</td>\n",
       "      <td>0.074576</td>\n",
       "      <td>2.905541</td>\n",
       "      <td>-1.458956</td>\n",
       "      <td>1.456775</td>\n",
       "      <td>-0.064177</td>\n",
       "      <td>18.570540</td>\n",
       "    </tr>\n",
       "    <tr>\n",
       "      <th>2</th>\n",
       "      <td>6037206020</td>\n",
       "      <td>206020</td>\n",
       "      <td>25.371634</td>\n",
       "      <td>3.241310</td>\n",
       "      <td>7.935621</td>\n",
       "      <td>23.024478</td>\n",
       "      <td>33.083716</td>\n",
       "      <td>-0.378863</td>\n",
       "      <td>0.253378</td>\n",
       "      <td>1.532130</td>\n",
       "      <td>3.858522</td>\n",
       "      <td>-0.640391</td>\n",
       "      <td>-0.504878</td>\n",
       "      <td>-0.537406</td>\n",
       "      <td>0.695641</td>\n",
       "      <td>2.116515</td>\n",
       "      <td>0.113467</td>\n",
       "      <td>18.510373</td>\n",
       "    </tr>\n",
       "    <tr>\n",
       "      <th>3</th>\n",
       "      <td>6037265303</td>\n",
       "      <td>265303</td>\n",
       "      <td>24.049650</td>\n",
       "      <td>3.103181</td>\n",
       "      <td>6.206362</td>\n",
       "      <td>23.079906</td>\n",
       "      <td>37.044221</td>\n",
       "      <td>0.275943</td>\n",
       "      <td>4.444663</td>\n",
       "      <td>-0.139991</td>\n",
       "      <td>-0.862088</td>\n",
       "      <td>-0.172616</td>\n",
       "      <td>-0.250905</td>\n",
       "      <td>2.788220</td>\n",
       "      <td>-1.508503</td>\n",
       "      <td>-0.018885</td>\n",
       "      <td>-0.016381</td>\n",
       "      <td>15.746365</td>\n",
       "    </tr>\n",
       "    <tr>\n",
       "      <th>4</th>\n",
       "      <td>6037222700</td>\n",
       "      <td>222700</td>\n",
       "      <td>28.248588</td>\n",
       "      <td>3.193318</td>\n",
       "      <td>5.895358</td>\n",
       "      <td>23.581431</td>\n",
       "      <td>49.864896</td>\n",
       "      <td>-0.465064</td>\n",
       "      <td>0.872278</td>\n",
       "      <td>0.292469</td>\n",
       "      <td>1.244664</td>\n",
       "      <td>-0.498661</td>\n",
       "      <td>0.033562</td>\n",
       "      <td>0.603629</td>\n",
       "      <td>-0.112641</td>\n",
       "      <td>1.575785</td>\n",
       "      <td>0.445801</td>\n",
       "      <td>17.049678</td>\n",
       "    </tr>\n",
       "  </tbody>\n",
       "</table>\n",
       "</div>"
      ],
      "text/plain": [
       "        GEOID  CT_5digit     bphigh       chd  diabetes   highchol    obesity  \\\n",
       "0  6037265301     265301   5.761042  0.500960  1.085414   6.762963  11.188110   \n",
       "1  6037401901     401901  16.223067  1.520913  2.788340  21.292775  35.741446   \n",
       "2  6037206020     206020  25.371634  3.241310  7.935621  23.024478  33.083716   \n",
       "3  6037265303     265303  24.049650  3.103181  6.206362  23.079906  37.044221   \n",
       "4  6037222700     222700  28.248588  3.193318  5.895358  23.581431  49.864896   \n",
       "\n",
       "       ABE1      ABE2      ABE3      ABE4      ABE5      ABE6      PBE1  \\\n",
       "0 -0.660764  0.692240 -0.394954  0.925184 -0.829787  0.235442  2.640152   \n",
       "1 -0.316248  0.295115 -0.205460  0.128051 -0.506879  0.074576  2.905541   \n",
       "2 -0.378863  0.253378  1.532130  3.858522 -0.640391 -0.504878 -0.537406   \n",
       "3  0.275943  4.444663 -0.139991 -0.862088 -0.172616 -0.250905  2.788220   \n",
       "4 -0.465064  0.872278  0.292469  1.244664 -0.498661  0.033562  0.603629   \n",
       "\n",
       "       PBE2       NE1       NE2        NE3  \n",
       "0 -1.443477  0.059821 -0.053236  15.788235  \n",
       "1 -1.458956  1.456775 -0.064177  18.570540  \n",
       "2  0.695641  2.116515  0.113467  18.510373  \n",
       "3 -1.508503 -0.018885 -0.016381  15.746365  \n",
       "4 -0.112641  1.575785  0.445801  17.049678  "
      ]
     },
     "execution_count": 15,
     "metadata": {},
     "output_type": "execute_result"
    }
   ],
   "source": [
    "file_path = r\"ModellingData_V3_PBE_ABE_NE.xlsx\"\n",
    "data = pd.read_excel(file_path)\n",
    "data.head()"
   ]
  },
  {
   "cell_type": "code",
   "execution_count": 16,
   "id": "9e063b13-c412-4abc-aa99-57b3ef6c4e2e",
   "metadata": {},
   "outputs": [
    {
     "data": {
      "text/plain": [
       "Index(['GEOID', 'CT_5digit', 'bphigh', 'chd', 'diabetes', 'highchol',\n",
       "       'obesity', 'ABE1', 'ABE2', 'ABE3', 'ABE4', 'ABE5', 'ABE6', 'PBE1',\n",
       "       'PBE2', 'NE1', 'NE2', 'NE3'],\n",
       "      dtype='object')"
      ]
     },
     "execution_count": 16,
     "metadata": {},
     "output_type": "execute_result"
    }
   ],
   "source": [
    "data.columns"
   ]
  },
  {
   "cell_type": "code",
   "execution_count": 17,
   "id": "0925aa73-124a-49d2-9126-93a74e7511d4",
   "metadata": {},
   "outputs": [
    {
     "name": "stdout",
     "output_type": "stream",
     "text": [
      "GEOID        0\n",
      "CT_5digit    0\n",
      "bphigh       0\n",
      "chd          0\n",
      "diabetes     0\n",
      "highchol     0\n",
      "obesity      0\n",
      "ABE1         0\n",
      "ABE2         0\n",
      "ABE3         0\n",
      "ABE4         0\n",
      "ABE5         0\n",
      "ABE6         0\n",
      "PBE1         0\n",
      "PBE2         0\n",
      "NE1          0\n",
      "NE2          0\n",
      "NE3          0\n",
      "dtype: int64\n"
     ]
    }
   ],
   "source": [
    "# Convert relevant object columns to numeric\n",
    "columns_to_convert = [\n",
    "    'bphigh', 'chd', 'diabetes', 'highchol', 'obesity',\n",
    "    'ABE1', 'ABE2', 'ABE3', 'ABE4', 'ABE5', 'ABE6',\n",
    "    'PBE1', 'PBE2',\n",
    "    'NE1', 'NE2', 'NE3'\n",
    "]\n",
    "\n",
    "data[columns_to_convert] = data[columns_to_convert].apply(pd.to_numeric, errors='coerce')\n",
    "\n",
    "# Select only the columns with float64 data type\n",
    "float_cols = data.select_dtypes(include=['float64'])\n",
    "\n",
    "# Fill missing values in float64 columns with the mean of each column\n",
    "float_cols.fillna(float_cols.mean(), inplace=True)\n",
    "\n",
    "# Replace the original columns in the DataFrame with the imputed columns\n",
    "data[float_cols.columns] = float_cols\n",
    "\n",
    "# Verify that missing values have been filled\n",
    "print(data.isnull().sum())"
   ]
  },
  {
   "cell_type": "code",
   "execution_count": 18,
   "id": "a705edfc-21ef-4f6a-b995-e772761dd55e",
   "metadata": {},
   "outputs": [],
   "source": [
    "import geopandas as gpd\n",
    "import pandas as pd\n",
    "import numpy as np\n",
    "from sklearn.ensemble import RandomForestRegressor\n",
    "from sklearn.metrics import r2_score\n",
    "import matplotlib.pyplot as plt\n",
    "from shapely.geometry import Point\n",
    "\n",
    "\n",
    "shapefile = gpd.read_file(r'C:\\Users\\24652\\Desktop\\Study area\\CENSUS_Tracts.shp')  "
   ]
  },
  {
   "cell_type": "code",
   "execution_count": 19,
   "id": "93c20ab9-9d62-4a47-964f-aacb5027b089",
   "metadata": {},
   "outputs": [],
   "source": [
    "# Ensure geoid column names match between the two datasets\n",
    "data['GEOID'] = data['GEOID'].astype(str)\n",
    "shapefile['GEOID'] = shapefile['GEOID'].astype(str).str[1:]"
   ]
  },
  {
   "cell_type": "code",
   "execution_count": 20,
   "id": "d2fb2df7-def5-4dbc-bfb5-6a6085e0a328",
   "metadata": {},
   "outputs": [],
   "source": [
    "# Merge CSV and Shapefile on `geoid`\n",
    "gdf = shapefile.merge(data, on='GEOID', how='right')"
   ]
  },
  {
   "cell_type": "code",
   "execution_count": 25,
   "id": "4f35fb4c-ffd8-416e-9b5d-88a9c168583d",
   "metadata": {},
   "outputs": [],
   "source": [
    "# gdf = ...  # your GeoDataFrame already loaded (projected CRS!)\n",
    "DISEASE_COLS = ['bphigh', 'chd', 'diabetes', 'highchol', 'obesity']\n",
    "GROUP_COL = 'city'                 # or None to summarize all together\n",
    "FEATURE_COLS = [c for c in gdf.columns\n",
    "                if c not in {'geometry','GEOID',GROUP_COL,*DISEASE_COLS}]\n",
    "\n",
    "BUFFER_SIZE = 1.0                  # in units of your CRS\n",
    "MIN_NEIGHBORS = 20\n",
    "RF_PARAMS = dict(n_estimators=500, max_features=6, random_state=42, n_jobs=-1)\n",
    "\n",
    "KEEP_GEOID_IN_PRED_CSV = False     # keep GEOID in per-row file\n",
    "OUTPUT_DIR = './'                  # where to write CSVs\n",
    "\n",
    "# AIC for RF (use your paper’s k). Default: p + 1 (features + intercept).\n",
    "AIC_K = len(FEATURE_COLS) + 1\n",
    "# ----------------------------------------------------"
   ]
  },
  {
   "cell_type": "code",
   "execution_count": 28,
   "id": "7ec872ed-1346-4965-af08-198f00a02b16",
   "metadata": {},
   "outputs": [],
   "source": [
    "def _compute_local_metrics(y_true, y_pred, k=AIC_K):\n",
    "    \"\"\"Local-only metrics matching the paper’s equations.\"\"\"\n",
    "    y_true = np.asarray(y_true)\n",
    "    y_pred = np.asarray(y_pred)\n",
    "    mask = np.isfinite(y_true) & np.isfinite(y_pred)\n",
    "    y_true = y_true[mask]; y_pred = y_pred[mask]\n",
    "    n = y_true.size\n",
    "    if n == 0:\n",
    "        return dict(n=0, res_min=np.nan, res_max=np.nan, res_mean=np.nan,\n",
    "                    rmse=np.nan, mae=np.nan, r2=np.nan, aic=np.nan)\n",
    "    resid = y_true - y_pred\n",
    "    rss = float(np.sum(resid**2))\n",
    "    rmse = float(np.sqrt(rss / n))\n",
    "    mae = float(mean_absolute_error(y_true, y_pred))\n",
    "    # R^2 (manual to avoid edge cases)\n",
    "    r2 = np.nan\n",
    "    if n >= 2:\n",
    "        sst = float(np.sum((y_true - y_true.mean())**2))\n",
    "        if sst > 0:\n",
    "            r2 = 1.0 - rss / sst\n",
    "    aic = float(n * np.log(rss / max(n,1)) + 2 * k)\n",
    "    return dict(\n",
    "        n=int(n),\n",
    "        res_min=float(np.min(resid)),\n",
    "        res_max=float(np.max(resid)),\n",
    "        res_mean=float(np.mean(resid)),\n",
    "        rmse=rmse, mae=mae, r2=r2, aic=aic\n",
    "    )\n",
    "\n",
    "\n",
    "def _local_rf_per_row(gdf: gpd.GeoDataFrame, target_col: str):\n",
    "    \"\"\"\n",
    "    Fit a local RF for each row using neighbors within BUFFER_SIZE.\n",
    "    Returns a DataFrame with: yhat_local, loc_R2, and per-feature importances (wide).\n",
    "    \"\"\"\n",
    "    # Safety: must have projected CRS (units in meters/km/etc.)\n",
    "    assert gdf.crs is not None, \"gdf.crs is None; reproject to a projected CRS before running.\"\n",
    "    gdf = gdf.reset_index(drop=True)\n",
    "    X_all = gdf[FEATURE_COLS].to_numpy()\n",
    "    y_all = gdf[target_col].to_numpy()\n",
    "\n",
    "    # Build spatial index (lazy)\n",
    "    _ = gdf.sindex\n",
    "    sidx = gdf.sindex\n",
    "    geoms = gdf.geometry.values\n",
    "\n",
    "    yhat_local = np.full(len(gdf), np.nan, float)\n",
    "    loc_r2     = np.full(len(gdf), np.nan, float)\n",
    "    imps       = np.full((len(gdf), len(FEATURE_COLS)), np.nan, float)\n",
    "\n",
    "    for i in tqdm(range(len(gdf)), desc=f\"Local RF [{target_col}]\"):\n",
    "        gi = geoms[i]\n",
    "        if gi is None or gi.is_empty:\n",
    "            continue\n",
    "\n",
    "        # ✅ query with GEOMETRY, not bbox tuple\n",
    "        buf_geom = gi.buffer(BUFFER_SIZE)\n",
    "        cand_idx = list(sidx.query(buf_geom, predicate='intersects'))\n",
    "        if not cand_idx:\n",
    "            continue\n",
    "\n",
    "        cand  = gdf.iloc[cand_idx]\n",
    "        # precise distance cutoff\n",
    "        neigh = cand.loc[cand.geometry.distance(gi) <= BUFFER_SIZE]\n",
    "        if len(neigh) < MIN_NEIGHBORS:\n",
    "            continue\n",
    "\n",
    "        Xn = neigh[FEATURE_COLS].to_numpy()\n",
    "        yn = neigh[target_col].to_numpy()\n",
    "\n",
    "        rf = RandomForestRegressor(**RF_PARAMS)\n",
    "        rf.fit(Xn, yn)\n",
    "\n",
    "        # predict focal row\n",
    "        yhat_local[i] = rf.predict(X_all[i:i+1])[0]\n",
    "\n",
    "        # local fit R^2 on neighborhood\n",
    "        yhat_n = rf.predict(Xn)\n",
    "        sst = float(np.sum((yn - yn.mean())**2))\n",
    "        if sst > 0:\n",
    "            loc_r2[i] = 1.0 - float(np.sum((yn - yhat_n)**2)) / sst\n",
    "\n",
    "        # feature importances\n",
    "        try:\n",
    "            imps[i, :] = rf.feature_importances_\n",
    "        except Exception:\n",
    "            pass\n",
    "\n",
    "    out = pd.DataFrame({\n",
    "        'yhat_local': yhat_local,\n",
    "        'loc_R2': loc_r2\n",
    "    })\n",
    "    for j, f in enumerate(FEATURE_COLS):\n",
    "        out[f'importance_{f}'] = imps[:, j]\n",
    "    return out\n",
    "\n",
    "\n",
    "def _summarize_local_by_group(df: pd.DataFrame, disease: str):\n",
    "    \"\"\"Compute LOCAL metrics per group (or overall if GROUP_COL is None).\"\"\"\n",
    "    rows = []\n",
    "    groups = ['All'] if (GROUP_COL is None or GROUP_COL not in df.columns) else sorted(df[GROUP_COL].dropna().unique())\n",
    "    for g in groups:\n",
    "        sub = df if GROUP_COL is None or GROUP_COL not in df.columns else df[df[GROUP_COL] == g]\n",
    "        m = _compute_local_metrics(sub[disease].values, sub[f'yhat_local_{disease}'].values, k=AIC_K)\n",
    "        rows.append({'disease': disease, 'group': g, **m})\n",
    "    return pd.DataFrame(rows)\n",
    "\n"
   ]
  },
  {
   "cell_type": "code",
   "execution_count": 29,
   "id": "0b92ccf5-bda1-4cc6-a72c-bf508e5dab20",
   "metadata": {},
   "outputs": [
    {
     "name": "stdout",
     "output_type": "stream",
     "text": [
      "\n",
      "=== Disease: bphigh (LOCAL) ===\n"
     ]
    },
    {
     "name": "stderr",
     "output_type": "stream",
     "text": [
      "Local RF [bphigh]: 100%|██████████████████████████████████████████████████████████| 1998/1998 [00:12<00:00, 163.96it/s]\n"
     ]
    },
    {
     "name": "stdout",
     "output_type": "stream",
     "text": [
      "  saved per-row -> ./bphigh_local_predictions.csv\n",
      "  saved metrics -> ./bphigh_local_metrics_tidy.csv\n",
      "\n",
      "=== Disease: chd (LOCAL) ===\n"
     ]
    },
    {
     "name": "stderr",
     "output_type": "stream",
     "text": [
      "Local RF [chd]: 100%|█████████████████████████████████████████████████████████████| 1998/1998 [00:12<00:00, 163.19it/s]\n"
     ]
    },
    {
     "name": "stdout",
     "output_type": "stream",
     "text": [
      "  saved per-row -> ./chd_local_predictions.csv\n",
      "  saved metrics -> ./chd_local_metrics_tidy.csv\n",
      "\n",
      "=== Disease: diabetes (LOCAL) ===\n"
     ]
    },
    {
     "name": "stderr",
     "output_type": "stream",
     "text": [
      "Local RF [diabetes]: 100%|████████████████████████████████████████████████████████| 1998/1998 [00:12<00:00, 161.62it/s]\n"
     ]
    },
    {
     "name": "stdout",
     "output_type": "stream",
     "text": [
      "  saved per-row -> ./diabetes_local_predictions.csv\n",
      "  saved metrics -> ./diabetes_local_metrics_tidy.csv\n",
      "\n",
      "=== Disease: highchol (LOCAL) ===\n"
     ]
    },
    {
     "name": "stderr",
     "output_type": "stream",
     "text": [
      "Local RF [highchol]: 100%|████████████████████████████████████████████████████████| 1998/1998 [00:12<00:00, 161.24it/s]\n"
     ]
    },
    {
     "name": "stdout",
     "output_type": "stream",
     "text": [
      "  saved per-row -> ./highchol_local_predictions.csv\n",
      "  saved metrics -> ./highchol_local_metrics_tidy.csv\n",
      "\n",
      "=== Disease: obesity (LOCAL) ===\n"
     ]
    },
    {
     "name": "stderr",
     "output_type": "stream",
     "text": [
      "Local RF [obesity]: 100%|█████████████████████████████████████████████████████████| 1998/1998 [00:12<00:00, 159.24it/s]"
     ]
    },
    {
     "name": "stdout",
     "output_type": "stream",
     "text": [
      "  saved per-row -> ./obesity_local_predictions.csv\n",
      "  saved metrics -> ./obesity_local_metrics_tidy.csv\n",
      "\n",
      "Local-only processing complete.\n"
     ]
    },
    {
     "name": "stderr",
     "output_type": "stream",
     "text": [
      "\n"
     ]
    }
   ],
   "source": [
    "# =========================\n",
    "# RUN (LOCAL ONLY)\n",
    "# =========================\n",
    "all_metric_frames = []\n",
    "for dz in DISEASE_COLS:\n",
    "    print(f\"\\n=== Disease: {dz} (LOCAL) ===\")\n",
    "    local_out = _local_rf_per_row(gdf, target_col=dz)\n",
    "\n",
    "    # attach per-row outputs\n",
    "    gdf[f'yhat_local_{dz}'] = local_out['yhat_local'].values\n",
    "    gdf[f'loc_R2_{dz}']     = local_out['loc_R2'].values\n",
    "    # (optionally keep importances per feature—already in `local_out`)\n",
    "\n",
    "    # ---- write per-row predictions (lean) ----\n",
    "    per_row_cols = []\n",
    "    if KEEP_GEOID_IN_PRED_CSV and 'GEOID' in gdf.columns:\n",
    "        per_row_cols.append('GEOID')\n",
    "    if GROUP_COL in gdf.columns:\n",
    "        per_row_cols.append(GROUP_COL)\n",
    "    per_row_cols += [dz, f'yhat_local_{dz}', f'loc_R2_{dz}']\n",
    "    pred_df = gdf[per_row_cols].copy()\n",
    "    pred_path = f\"{OUTPUT_DIR}{dz}_local_predictions.csv\"\n",
    "    pred_df.to_csv(pred_path, index=False)\n",
    "\n",
    "    # ---- compute + store tidy LOCAL metrics by group ----\n",
    "    metrics_df = _summarize_local_by_group(gdf, disease=dz)\n",
    "    metrics_path = f\"{OUTPUT_DIR}{dz}_local_metrics_tidy.csv\"\n",
    "    metrics_df.to_csv(metrics_path, index=False)\n",
    "\n",
    "    print(f\"  saved per-row -> {pred_path}\")\n",
    "    print(f\"  saved metrics -> {metrics_path}\")\n",
    "\n",
    "print(\"\\nLocal-only processing complete.\")"
   ]
  },
  {
   "cell_type": "code",
   "execution_count": 31,
   "id": "c5b1a247-6acb-4e0e-8aad-20c2de341f6c",
   "metadata": {},
   "outputs": [
    {
     "name": "stdout",
     "output_type": "stream",
     "text": [
      "Merged file saved -> all_local_metrics_summary.csv\n"
     ]
    }
   ],
   "source": [
    "import pandas as pd\n",
    "\n",
    "files = [\n",
    "    \"bphigh_local_metrics_tidy.csv\",\n",
    "    \"chd_local_metrics_tidy.csv\",\n",
    "    \"diabetes_local_metrics_tidy.csv\",\n",
    "    \"highchol_local_metrics_tidy.csv\",\n",
    "    \"obesity_local_metrics_tidy.csv\"\n",
    "]\n",
    "\n",
    "dfs = []\n",
    "for f in files:\n",
    "    df = pd.read_csv(f)\n",
    "    # Add a disease column only if it doesn’t exist\n",
    "    if \"disease\" not in df.columns:\n",
    "        disease = f.split(\"_\")[0]   # file prefix\n",
    "        df.insert(0, \"disease\", disease)\n",
    "    dfs.append(df)\n",
    "\n",
    "# Concatenate\n",
    "merged = pd.concat(dfs, ignore_index=True)\n",
    "\n",
    "# Save\n",
    "merged.to_csv(\"all_local_metrics_summary.csv\", index=False)\n",
    "print(\"Merged file saved -> all_local_metrics_summary.csv\")"
   ]
  },
  {
   "cell_type": "code",
   "execution_count": null,
   "id": "9120e620-f73c-4c14-9d8f-d982eda31f63",
   "metadata": {},
   "outputs": [],
   "source": []
  }
 ],
 "metadata": {
  "kernelspec": {
   "display_name": "Python 3 (ipykernel)",
   "language": "python",
   "name": "python3"
  },
  "language_info": {
   "codemirror_mode": {
    "name": "ipython",
    "version": 3
   },
   "file_extension": ".py",
   "mimetype": "text/x-python",
   "name": "python",
   "nbconvert_exporter": "python",
   "pygments_lexer": "ipython3",
   "version": "3.11.7"
  }
 },
 "nbformat": 4,
 "nbformat_minor": 5
}
